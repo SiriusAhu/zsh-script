{
 "cells": [
  {
   "cell_type": "code",
   "execution_count": 8,
   "metadata": {},
   "outputs": [
    {
     "data": {
      "text/plain": [
       "{'theme': {'powerlevel10k': 'https://github.com/romkatv/powerlevel10k.git'},\n",
       " 'plugins': {'zsh-syntax-highlighting': 'https://github.com/zsh-users/zsh-syntax-highlighting.git',\n",
       "  'zsh-autosuggestions': 'https://github.com/zsh-users/zsh-autosuggestions',\n",
       "  'zsh-history-substring-search': 'https://github.com/zsh-users/zsh-history-substring-search',\n",
       "  'auto-notify': 'https://github.com/MichaelAquilina/zsh-auto-notify.git',\n",
       "  'you-should-use': 'https://github.com/MichaelAquilina/zsh-you-should-use.git'},\n",
       " 'fonts': {'MesloLGS NF Regular.ttf': 'https://github.com/romkatv/powerlevel10k-media/raw/master/MesloLGS%20NF%20Regular.ttf',\n",
       "  'MesloLGS NF Bold.ttf': 'https://github.com/romkatv/powerlevel10k-media/raw/master/MesloLGS%20NF%20Bold.ttf',\n",
       "  'MesloLGS NF Italic.ttf': 'https://github.com/romkatv/powerlevel10k-media/raw/master/MesloLGS%20NF%20Italic.ttf',\n",
       "  'MesloLGS NF Bold Italic.ttf': 'https://github.com/romkatv/powerlevel10k-media/raw/master/MesloLGS%20NF%20Bold%20Italic.ttf'}}"
      ]
     },
     "execution_count": 8,
     "metadata": {},
     "output_type": "execute_result"
    }
   ],
   "source": [
    "link = \"./json/name2link.json\"\n",
    "directory = \"./json/name2directory.json\"\n",
    "\n",
    "import json\n",
    "import os\n",
    "\n",
    "link_info = json.load(open(link))\n",
    "directory_info = json.load(open(directory))\n",
    "\n",
    "link_info"
   ]
  }
 ],
 "metadata": {
  "kernelspec": {
   "display_name": "base",
   "language": "python",
   "name": "python3"
  },
  "language_info": {
   "codemirror_mode": {
    "name": "ipython",
    "version": 3
   },
   "file_extension": ".py",
   "mimetype": "text/x-python",
   "name": "python",
   "nbconvert_exporter": "python",
   "pygments_lexer": "ipython3",
   "version": "3.9.7"
  }
 },
 "nbformat": 4,
 "nbformat_minor": 2
}
